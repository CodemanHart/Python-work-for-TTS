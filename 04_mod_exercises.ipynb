{
 "cells": [
  {
   "cell_type": "markdown",
   "metadata": {},
   "source": [
    "Data Science Fundamentals: Python |\n",
    "[Table of Contents](../index.ipynb)\n",
    "- - - \n",
    "<!--NAVIGATION-->\n",
    "Module 3. [Control Flow](./01_mod_control_flow.ipynb) | [Statements](./02_python_statements.ipynb) | [Functions](./03_python_functions.ipynb) | **[Exercises](./04_mod_exercises.ipynb)**\n",
    "<!--NAVIGATION-->\n",
    "Supplemental. [While Loops](./supplemental/01_while-loop.ipynb) | [If Elif Else](./supplemental/02_if-elif-else.ipynb) | [Break Continue](./supplemental/03_break_continue.ipynb) | [For Loops](./04_for_loop.ipynb)\n",
    "<!--NAVIGATION-->\n",
    "Optional. [Writing Assignment](./optional/writing_assignment.ipynb) | [Real World Examples](./optional/real_world_examples.ipynb)"
   ]
  },
  {
   "cell_type": "markdown",
   "metadata": {},
   "source": [
    "# Module 3: Practice Exercises"
   ]
  },
  {
   "cell_type": "markdown",
   "metadata": {},
   "source": [
    "1. Guess a number between 1 to 9 given by the user. Hint. [Random](https://docs.python.org/3/library/random.html)"
   ]
  },
  {
   "cell_type": "code",
   "execution_count": 2,
   "metadata": {},
   "outputs": [
    {
     "name": "stdout",
     "output_type": "stream",
     "text": [
      "Guess a number between 1 and 10 until you get it right : 5\n",
      "Guess a number between 1 and 10 until you get it right : 8\n",
      "Guess a number between 1 and 10 until you get it right : 2\n",
      "Guess a number between 1 and 10 until you get it right : 1\n",
      "Well guessed!\n"
     ]
    }
   ],
   "source": [
    "import random\n",
    "target_num, guess_num = random.randint(1, 10), 0\n",
    "while target_num != guess_num:\n",
    "    guess_num = int(input('Guess a number between 1 and 10 until you get it right : '))\n",
    "print('Well guessed!')"
   ]
  },
  {
   "cell_type": "markdown",
   "metadata": {},
   "source": [
    "2. Check the validity of password input by the user. Hint. [Re](https://docs.python.org/3/library/re.html) which does matching operations much like Perl.\n",
    "\n",
    "Validation:\n",
    "\n",
    "- At least 1 letter between [a-z] and 1 letter between [A-Z].\n",
    "- At least 1 number between [0-9].\n",
    "- At least 1 character from [$#@].\n",
    "- Minimum length 6 characters.\n",
    "- Maximum length 16 characters."
   ]
  },
  {
   "cell_type": "code",
   "execution_count": 3,
   "metadata": {},
   "outputs": [
    {
     "name": "stdout",
     "output_type": "stream",
     "text": [
      "input your passwordgUessme123\n",
      "Not a Valid Password\n"
     ]
    }
   ],
   "source": [
    "import re\n",
    "p = input(\"input your password\")\n",
    "x = True\n",
    "while x:\n",
    "    if (len(p)<6 or len(p)>16):\n",
    "        break\n",
    "    elif not re.search(\"[a-z]\",p):\n",
    "        break\n",
    "    elif not re.search(\"[0-9]\",p):\n",
    "        break\n",
    "    elif not re.search(\"[A-Z]\",p):\n",
    "        break\n",
    "    elif not re.search(\"[$#@]\",p):\n",
    "        break\n",
    "    elif re.search(\"\\s\",p):\n",
    "        break\n",
    "    else:\n",
    "        print(\"Valid Password\")\n",
    "        x=False\n",
    "        break\n",
    "\n",
    "if x:\n",
    "    print(\"Not a Valid Password\")"
   ]
  },
  {
   "cell_type": "markdown",
   "metadata": {},
   "source": [
    "3. Get input of the age of 3 people by user and determine oldest and youngest among them"
   ]
  },
  {
   "cell_type": "code",
   "execution_count": 14,
   "metadata": {},
   "outputs": [
    {
     "name": "stdout",
     "output_type": "stream",
     "text": [
      "Enter First Person's Age : 2\n",
      "Enter Second Person's Age : 3\n",
      "Enter Third Person's Age : 4\n",
      "enter age1: 2\n",
      "enter age2: 3\n",
      "enter age3: 4\n",
      "age3 is oldest\n",
      "age1 is youngest\n"
     ]
    }
   ],
   "source": [
    "number1 = int(input(\"Enter First Person's Age : \"))\n",
    "number2 = int(input(\"Enter Second Person's Age : \"))\n",
    "number3 = int(input(\"Enter Third Person's Age : \"))\n",
    "\n",
    "age1=int(input('enter age1: '))\n",
    "age2=int(input('enter age2: '))\n",
    "age3=int(input('enter age3: '))\n",
    "if age1>age2 and age1>age3:    \n",
    "    print('age1 is oldest')\n",
    "elif age2>age1 and age2>age3:    \n",
    "    print('age2 is oldest')\n",
    "else:\n",
    "    print('age3 is oldest')\n",
    "if age1<age2 and age1<age3:    \n",
    "        print('age1 is youngest')\n",
    "elif age2<age1 and age2<age3:    \n",
    "        print('age2 is youngest')\n",
    "else:     \n",
    "    print('age3 is youngest')"
   ]
  },
  {
   "cell_type": "markdown",
   "metadata": {},
   "source": [
    "4. A student will not be allowed to sit in exam if his/her attendance is less than 75%.\n",
    "\n",
    "Take following input from user\n",
    "\n",
    "- Number of classes held\n",
    "- Number of classes attended.\n",
    "- And print percentage of class attended\n",
    "- Is student is allowed to sit in exam or not?"
   ]
  },
  {
   "cell_type": "code",
   "execution_count": 15,
   "metadata": {},
   "outputs": [
    {
     "name": "stdout",
     "output_type": "stream",
     "text": [
      "Number of classes held:5\n",
      "Number of classes attended:3\n",
      "The student is not allowed to sit in the exam hall\n"
     ]
    }
   ],
   "source": [
    "a=int(input(\"Number of classes held:\"))\n",
    "b=int(input(\"Number of classes attended:\"))\n",
    "percentage=b/a*100\n",
    "if percentage>=75:\n",
    "    print(\"The student is allowed to sit in the exam hall\")\n",
    "else:\n",
    "    print(\"The student is not allowed to sit in the exam hall\")"
   ]
  },
  {
   "cell_type": "raw",
   "metadata": {},
   "source": [
    "# 5. Get an integer N from the user and perform the following actions:\n",
    "\n",
    "Find out - \n",
    "- if N is odd, print \"weird\"\n",
    "- if N is even and in the inclusive range of 2 to 5, print \"Not Weird\"\n",
    "- if N is even and in the inclusive range of 6 to 20, print \"Weird\"\n",
    "- if N is even and greater than 20, print \"Not Weird\""
   ]
  },
  {
   "cell_type": "code",
   "execution_count": 16,
   "metadata": {},
   "outputs": [
    {
     "ename": "KeyboardInterrupt",
     "evalue": "Interrupted by user",
     "output_type": "error",
     "traceback": [
      "\u001b[0;31m---------------------------------------------------------------------------\u001b[0m",
      "\u001b[0;31mKeyboardInterrupt\u001b[0m                         Traceback (most recent call last)",
      "Input \u001b[0;32mIn [16]\u001b[0m, in \u001b[0;36m<cell line: 7>\u001b[0;34m()\u001b[0m\n\u001b[1;32m      1\u001b[0m \u001b[38;5;66;03m# Given an integer, n, perform the following conditional actions:\u001b[39;00m\n\u001b[1;32m      2\u001b[0m \u001b[38;5;66;03m# If n is odd, print Weird\u001b[39;00m\n\u001b[1;32m      3\u001b[0m \u001b[38;5;66;03m# If n is even and in the inclusive range of 2 to 5, print Not Weird\u001b[39;00m\n\u001b[1;32m      4\u001b[0m \u001b[38;5;66;03m# If n is even and in the inclusive range of 6 to 20, print Weird\u001b[39;00m\n\u001b[1;32m      5\u001b[0m \u001b[38;5;66;03m# If n is even and greater than 20, print Not Weird\u001b[39;00m\n\u001b[0;32m----> 7\u001b[0m N \u001b[38;5;241m=\u001b[39m \u001b[38;5;28mint\u001b[39m(\u001b[38;5;28;43minput\u001b[39;49m\u001b[43m(\u001b[49m\u001b[38;5;124;43m\"\u001b[39;49m\u001b[38;5;124;43mselected integer:  \u001b[39;49m\u001b[38;5;124;43m\"\u001b[39;49m\u001b[43m)\u001b[49m)\n\u001b[1;32m      9\u001b[0m \u001b[38;5;28;01mif\u001b[39;00m N\u001b[38;5;241m%\u001b[39m\u001b[38;5;241m2\u001b[39m \u001b[38;5;241m==\u001b[39m \u001b[38;5;241m1\u001b[39m:\n\u001b[1;32m     10\u001b[0m     \u001b[38;5;28mprint\u001b[39m(\u001b[38;5;124m\"\u001b[39m\u001b[38;5;124mWeird\u001b[39m\u001b[38;5;124m\"\u001b[39m)\n",
      "File \u001b[0;32m~/opt/anaconda3/lib/python3.9/site-packages/ipykernel/kernelbase.py:1075\u001b[0m, in \u001b[0;36mKernel.raw_input\u001b[0;34m(self, prompt)\u001b[0m\n\u001b[1;32m   1071\u001b[0m \u001b[38;5;28;01mif\u001b[39;00m \u001b[38;5;129;01mnot\u001b[39;00m \u001b[38;5;28mself\u001b[39m\u001b[38;5;241m.\u001b[39m_allow_stdin:\n\u001b[1;32m   1072\u001b[0m     \u001b[38;5;28;01mraise\u001b[39;00m StdinNotImplementedError(\n\u001b[1;32m   1073\u001b[0m         \u001b[38;5;124m\"\u001b[39m\u001b[38;5;124mraw_input was called, but this frontend does not support input requests.\u001b[39m\u001b[38;5;124m\"\u001b[39m\n\u001b[1;32m   1074\u001b[0m     )\n\u001b[0;32m-> 1075\u001b[0m \u001b[38;5;28;01mreturn\u001b[39;00m \u001b[38;5;28;43mself\u001b[39;49m\u001b[38;5;241;43m.\u001b[39;49m\u001b[43m_input_request\u001b[49m\u001b[43m(\u001b[49m\n\u001b[1;32m   1076\u001b[0m \u001b[43m    \u001b[49m\u001b[38;5;28;43mstr\u001b[39;49m\u001b[43m(\u001b[49m\u001b[43mprompt\u001b[49m\u001b[43m)\u001b[49m\u001b[43m,\u001b[49m\n\u001b[1;32m   1077\u001b[0m \u001b[43m    \u001b[49m\u001b[38;5;28;43mself\u001b[39;49m\u001b[38;5;241;43m.\u001b[39;49m\u001b[43m_parent_ident\u001b[49m\u001b[43m[\u001b[49m\u001b[38;5;124;43m\"\u001b[39;49m\u001b[38;5;124;43mshell\u001b[39;49m\u001b[38;5;124;43m\"\u001b[39;49m\u001b[43m]\u001b[49m\u001b[43m,\u001b[49m\n\u001b[1;32m   1078\u001b[0m \u001b[43m    \u001b[49m\u001b[38;5;28;43mself\u001b[39;49m\u001b[38;5;241;43m.\u001b[39;49m\u001b[43mget_parent\u001b[49m\u001b[43m(\u001b[49m\u001b[38;5;124;43m\"\u001b[39;49m\u001b[38;5;124;43mshell\u001b[39;49m\u001b[38;5;124;43m\"\u001b[39;49m\u001b[43m)\u001b[49m\u001b[43m,\u001b[49m\n\u001b[1;32m   1079\u001b[0m \u001b[43m    \u001b[49m\u001b[43mpassword\u001b[49m\u001b[38;5;241;43m=\u001b[39;49m\u001b[38;5;28;43;01mFalse\u001b[39;49;00m\u001b[43m,\u001b[49m\n\u001b[1;32m   1080\u001b[0m \u001b[43m\u001b[49m\u001b[43m)\u001b[49m\n",
      "File \u001b[0;32m~/opt/anaconda3/lib/python3.9/site-packages/ipykernel/kernelbase.py:1120\u001b[0m, in \u001b[0;36mKernel._input_request\u001b[0;34m(self, prompt, ident, parent, password)\u001b[0m\n\u001b[1;32m   1117\u001b[0m             \u001b[38;5;28;01mbreak\u001b[39;00m\n\u001b[1;32m   1118\u001b[0m \u001b[38;5;28;01mexcept\u001b[39;00m \u001b[38;5;167;01mKeyboardInterrupt\u001b[39;00m:\n\u001b[1;32m   1119\u001b[0m     \u001b[38;5;66;03m# re-raise KeyboardInterrupt, to truncate traceback\u001b[39;00m\n\u001b[0;32m-> 1120\u001b[0m     \u001b[38;5;28;01mraise\u001b[39;00m \u001b[38;5;167;01mKeyboardInterrupt\u001b[39;00m(\u001b[38;5;124m\"\u001b[39m\u001b[38;5;124mInterrupted by user\u001b[39m\u001b[38;5;124m\"\u001b[39m) \u001b[38;5;28;01mfrom\u001b[39;00m \u001b[38;5;28mNone\u001b[39m\n\u001b[1;32m   1121\u001b[0m \u001b[38;5;28;01mexcept\u001b[39;00m \u001b[38;5;167;01mException\u001b[39;00m:\n\u001b[1;32m   1122\u001b[0m     \u001b[38;5;28mself\u001b[39m\u001b[38;5;241m.\u001b[39mlog\u001b[38;5;241m.\u001b[39mwarning(\u001b[38;5;124m\"\u001b[39m\u001b[38;5;124mInvalid Message:\u001b[39m\u001b[38;5;124m\"\u001b[39m, exc_info\u001b[38;5;241m=\u001b[39m\u001b[38;5;28;01mTrue\u001b[39;00m)\n",
      "\u001b[0;31mKeyboardInterrupt\u001b[0m: Interrupted by user"
     ]
    }
   ],
   "source": [
    "# Given an integer, n, perform the following conditional actions:\n",
    "# If n is odd, print Weird\n",
    "# If n is even and in the inclusive range of 2 to 5, print Not Weird\n",
    "# If n is even and in the inclusive range of 6 to 20, print Weird\n",
    "# If n is even and greater than 20, print Not Weird\n",
    "\n",
    "N = int(input(\"\"))\n",
    "\n",
    "if N%2 == 1:\n",
    "    print(\"Weird\")\n",
    "elif N%2 == 0 and N in range(2, 6):\n",
    "    print(\"Not weird\")\n",
    "elif N%2 == 0 and N in range(6, 21):\n",
    "    print(\"Weird\")\n",
    "elif N%2 == 0 and N>20:\n",
    "    print(\"Not Weird\")\n",
    "\n"
   ]
  },
  {
   "cell_type": "markdown",
   "metadata": {},
   "source": [
    "\n",
    "## Extra Points\n",
    "- - -"
   ]
  },
  {
   "cell_type": "markdown",
   "metadata": {},
   "source": [
    "1. ***Optional Exercise (Extra Points)***. Write a Python program to reverse a string."
   ]
  },
  {
   "cell_type": "raw",
   "metadata": {},
   "source": [
    "Sample String : \"1234abcd\"\n",
    "Expected Output : \"dcba4321\""
   ]
  },
  {
   "cell_type": "code",
   "execution_count": 15,
   "metadata": {},
   "outputs": [
    {
     "name": "stdout",
     "output_type": "stream",
     "text": [
      "Input a string to reverse: 1234abcd\n"
     ]
    },
    {
     "data": {
      "text/plain": [
       "'dcba4321'"
      ]
     },
     "execution_count": 15,
     "metadata": {},
     "output_type": "execute_result"
    }
   ],
   "source": []
  },
  {
   "cell_type": "markdown",
   "metadata": {},
   "source": [
    "2. ***Optional Exercise (Extra Points)***. Write a Python function to multiply all the numbers in a list. "
   ]
  },
  {
   "cell_type": "raw",
   "metadata": {},
   "source": [
    "Sample List : (8, 2, 3, -1, 7)\n",
    "Expected Output : -336"
   ]
  },
  {
   "cell_type": "code",
   "execution_count": 14,
   "metadata": {},
   "outputs": [
    {
     "name": "stdout",
     "output_type": "stream",
     "text": [
      "-336\n"
     ]
    }
   ],
   "source": []
  },
  {
   "cell_type": "markdown",
   "metadata": {},
   "source": [
    "3. ***Optional Exercise (Extra Points)***. Write a Python function that accepts a string and calculate the number of upper case letters and lower case letters."
   ]
  },
  {
   "cell_type": "raw",
   "metadata": {},
   "source": [
    "Sample String : 'The quick Brow Fox'\n",
    "Expected Output :\n",
    "No. of Upper case characters : 3\n",
    "No. of Lower case Characters : 12"
   ]
  },
  {
   "cell_type": "code",
   "execution_count": 4,
   "metadata": {},
   "outputs": [
    {
     "name": "stdout",
     "output_type": "stream",
     "text": [
      "Input a sentence to calculate the number of upper and lower case letters: The quick Brown Fox\n",
      "Original String :  The quick Brown Fox\n",
      "No. of Upper case characters :  3\n",
      "No. of Lower case Characters :  13\n"
     ]
    }
   ],
   "source": []
  },
  {
   "cell_type": "markdown",
   "metadata": {},
   "source": [
    "- - -\n",
    "\n",
    "Copyright © 2020 Qualex Consulting Services Incorporated."
   ]
  }
 ],
 "metadata": {
  "kernelspec": {
   "display_name": "Python 3 (ipykernel)",
   "language": "python",
   "name": "python3"
  },
  "language_info": {
   "codemirror_mode": {
    "name": "ipython",
    "version": 3
   },
   "file_extension": ".py",
   "mimetype": "text/x-python",
   "name": "python",
   "nbconvert_exporter": "python",
   "pygments_lexer": "ipython3",
   "version": "3.9.12"
  }
 },
 "nbformat": 4,
 "nbformat_minor": 4
}
